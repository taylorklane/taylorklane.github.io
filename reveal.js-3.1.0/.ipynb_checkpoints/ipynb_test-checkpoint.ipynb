{
 "metadata": {
  "name": "",
  "signature": "sha256:fd80d3ac168b9700ef5d74b1fd93b3fc7cad09fb3ec0926058636e15ed291d24"
 },
 "nbformat": 3,
 "nbformat_minor": 0,
 "worksheets": []
}